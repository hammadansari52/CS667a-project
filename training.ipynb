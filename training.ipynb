{
  "cells": [
    {
      "cell_type": "code",
      "execution_count": null,
      "metadata": {
        "id": "c48ae37c"
      },
      "outputs": [],
      "source": [
        "import numpy as np\n",
        "import os\n",
        "import PIL\n",
        "import PIL.Image\n",
        "import tensorflow as tf\n",
        "import matplotlib.pyplot as plt\n",
        "from progressbar import ProgressBar\n",
        "from time import perf_counter\n",
        "import cv2 as cv\n",
        "import pandas as pd\n",
        "import pathlib\n",
        "import psutil\n",
        "from tensorflow.keras.preprocessing import image"
      ],
      "id": "c48ae37c"
    },
    {
      "cell_type": "code",
      "execution_count": null,
      "metadata": {
        "colab": {
          "base_uri": "https://localhost:8080/",
          "height": 36
        },
        "id": "3ac459f7",
        "outputId": "b2122520-c627-4ddb-e5d4-4249d91166c6"
      },
      "outputs": [
        {
          "output_type": "execute_result",
          "data": {
            "text/plain": [
              "'2.9.2'"
            ],
            "application/vnd.google.colaboratory.intrinsic+json": {
              "type": "string"
            }
          },
          "metadata": {},
          "execution_count": 2
        }
      ],
      "source": [
        "tf.__version__"
      ],
      "id": "3ac459f7"
    },
    {
      "cell_type": "code",
      "execution_count": null,
      "metadata": {
        "id": "xWmZ16i1pLF1"
      },
      "outputs": [],
      "source": [
        "classes = ['0_Healthy', '1_Unhealthy']"
      ],
      "id": "xWmZ16i1pLF1"
    },
    {
      "cell_type": "code",
      "execution_count": null,
      "metadata": {
        "colab": {
          "base_uri": "https://localhost:8080/"
        },
        "id": "qXE-N5yRNTO4",
        "outputId": "431e7014-504f-4b86-839d-7a9c98f4d258"
      },
      "outputs": [
        {
          "output_type": "stream",
          "name": "stdout",
          "text": [
            "Mounted at /content/gdrive/\n"
          ]
        }
      ],
      "source": [
        "from google.colab import drive\n",
        "\n",
        "drive.mount('/content/gdrive/', force_remount=True)"
      ],
      "id": "qXE-N5yRNTO4"
    },
    {
      "cell_type": "code",
      "execution_count": null,
      "metadata": {
        "id": "7d925cd8"
      },
      "outputs": [],
      "source": [
        "IMG_SHAPE = 224\n",
        "BATCH_SIZE = 32"
      ],
      "id": "7d925cd8"
    },
    {
      "cell_type": "code",
      "execution_count": null,
      "metadata": {
        "colab": {
          "base_uri": "https://localhost:8080/"
        },
        "id": "e5229018",
        "outputId": "ae36803e-582a-46c3-f8ea-0d2b1ee9093a"
      },
      "outputs": [
        {
          "output_type": "stream",
          "name": "stdout",
          "text": [
            "Found 6010 files belonging to 2 classes.\n",
            "Found 933 files belonging to 2 classes.\n"
          ]
        }
      ],
      "source": [
        "dataset_dir = \"/content/gdrive/MyDrive/iot/data\"\n",
        "train_dir = os.path.join(dataset_dir, 'train')\n",
        "val_dir = os.path.join(dataset_dir, 'validation')\n",
        "train_data = tf.keras.utils.image_dataset_from_directory(train_dir, \n",
        "                                                         labels = \"inferred\", \n",
        "                                                         color_mode='rgb', \n",
        "                                                         batch_size=BATCH_SIZE, \n",
        "                                                         image_size=(IMG_SHAPE, IMG_SHAPE))\n",
        "\n",
        "val_data = tf.keras.utils.image_dataset_from_directory(val_dir, \n",
        "                                                       labels = \"inferred\", \n",
        "                                                       color_mode='rgb', \n",
        "                                                       batch_size=BATCH_SIZE,\n",
        "                                                       image_size=(IMG_SHAPE, IMG_SHAPE))"
      ],
      "id": "e5229018"
    },
    {
      "cell_type": "code",
      "execution_count": null,
      "metadata": {
        "id": "7b9218f5"
      },
      "outputs": [],
      "source": [
        "num_classes = len(train_data.class_names)"
      ],
      "id": "7b9218f5"
    },
    {
      "cell_type": "code",
      "execution_count": null,
      "metadata": {
        "id": "w3qCXrFH5aS6"
      },
      "outputs": [],
      "source": [
        "resize_and_rescale = tf.keras.Sequential([\n",
        "  tf.keras.layers.Resizing(IMG_SHAPE, IMG_SHAPE),\n",
        "  tf.keras.layers.Rescaling(1./255)\n",
        "])\n",
        "\n",
        "# data_augmentation = tf.keras.Sequential([\n",
        "#   tf.keras.layers.RandomFlip(\"horizontal_and_vertical\"),\n",
        "#   tf.keras.layers.RandomRotation(0.2),\n",
        "# ])"
      ],
      "id": "w3qCXrFH5aS6"
    },
    {
      "cell_type": "code",
      "execution_count": null,
      "metadata": {
        "id": "3a2a48de"
      },
      "outputs": [],
      "source": [
        "import tensorflow_hub as hub\n",
        "inception_v3 = \"https://tfhub.dev/google/tf2-preview/inception_v3/feature_vector/4\"\n",
        "\n",
        "feature_extractor_model = inception_v3"
      ],
      "id": "3a2a48de"
    },
    {
      "cell_type": "code",
      "execution_count": null,
      "metadata": {
        "id": "88b1032b"
      },
      "outputs": [],
      "source": [
        "feature_extractor_layer = hub.KerasLayer(\n",
        "    feature_extractor_model,\n",
        "    input_shape=(IMG_SHAPE, IMG_SHAPE, 3),\n",
        "    trainable=False)"
      ],
      "id": "88b1032b"
    },
    {
      "cell_type": "code",
      "execution_count": null,
      "metadata": {
        "colab": {
          "base_uri": "https://localhost:8080/"
        },
        "id": "ZTSUjVyBQPFF",
        "outputId": "6390e474-f8ee-4370-908c-7e242d423fdf"
      },
      "outputs": [
        {
          "output_type": "stream",
          "name": "stdout",
          "text": [
            "(32, 2048)\n"
          ]
        }
      ],
      "source": [
        "# for image_batch, labels_batch in train_data:\n",
        "#   feature_batch = feature_extractor_layer(image_batch)\n",
        "#   print(feature_batch.shape)\n",
        "#   break"
      ],
      "id": "ZTSUjVyBQPFF"
    },
    {
      "cell_type": "code",
      "execution_count": null,
      "metadata": {
        "colab": {
          "base_uri": "https://localhost:8080/"
        },
        "id": "734ff790",
        "outputId": "9ff1065f-20c3-4e68-8213-0483d0564c4e"
      },
      "outputs": [
        {
          "output_type": "stream",
          "name": "stdout",
          "text": [
            "Model: \"sequential_2\"\n",
            "_________________________________________________________________\n",
            " Layer (type)                Output Shape              Param #   \n",
            "=================================================================\n",
            " sequential (Sequential)     (None, 224, 224, 3)       0         \n",
            "                                                                 \n",
            " keras_layer (KerasLayer)    (None, 2048)              21802784  \n",
            "                                                                 \n",
            " dense (Dense)               (None, 2)                 4098      \n",
            "                                                                 \n",
            "=================================================================\n",
            "Total params: 21,806,882\n",
            "Trainable params: 4,098\n",
            "Non-trainable params: 21,802,784\n",
            "_________________________________________________________________\n"
          ]
        }
      ],
      "source": [
        "model = tf.keras.Sequential([\n",
        "    resize_and_rescale,\n",
        "  feature_extractor_layer,\n",
        "  tf.keras.layers.Dense(num_classes, activation = 'softmax')\n",
        "]) \n",
        "\n",
        "model.build(input_shape=(None, IMG_SHAPE, IMG_SHAPE, 3))\n",
        "model.summary()"
      ],
      "id": "734ff790"
    },
    {
      "cell_type": "code",
      "execution_count": null,
      "metadata": {
        "id": "43f4336f"
      },
      "outputs": [],
      "source": [
        "# for image_batch, labels_batch in train_data:\n",
        "#   predictions = model(image_batch)\n",
        "#   break"
      ],
      "id": "43f4336f"
    },
    {
      "cell_type": "code",
      "execution_count": null,
      "metadata": {
        "colab": {
          "base_uri": "https://localhost:8080/"
        },
        "id": "8ebfa927",
        "outputId": "2caaf14c-dbd6-4977-e672-a34e0f7c2761",
        "scrolled": true
      },
      "outputs": [
        {
          "output_type": "stream",
          "name": "stdout",
          "text": [
            "0.53125\n"
          ]
        }
      ],
      "source": [
        "# predicted_labels = np.argmax(np.array(predictions), axis = 1)\n",
        "# orig_labels = np.array(labels_batch)\n",
        "# accuracy = np.average(predicted_labels == orig_labels)\n",
        "# print(accuracy)"
      ],
      "id": "8ebfa927"
    },
    {
      "cell_type": "code",
      "execution_count": null,
      "metadata": {
        "id": "8f8719b3"
      },
      "outputs": [],
      "source": [
        "model.compile(\n",
        "    optimizer=tf.keras.optimizers.Adam(),\n",
        "    loss=\"sparse_categorical_crossentropy\",\n",
        "    metrics=['acc'])"
      ],
      "id": "8f8719b3"
    },
    {
      "cell_type": "code",
      "execution_count": null,
      "metadata": {
        "colab": {
          "base_uri": "https://localhost:8080/"
        },
        "id": "cae9fe6f",
        "outputId": "c8ec7967-6bbd-4e17-ade7-a8dfa8472053"
      },
      "outputs": [
        {
          "output_type": "stream",
          "name": "stdout",
          "text": [
            "Epoch 1/20\n",
            "188/188 [==============================] - 1372s 7s/step - loss: 0.4296 - acc: 0.7990 - val_loss: 0.3537 - val_acc: 0.8349\n",
            "Epoch 2/20\n",
            "188/188 [==============================] - 110s 564ms/step - loss: 0.2762 - acc: 0.8890 - val_loss: 0.2947 - val_acc: 0.8746\n",
            "Epoch 3/20\n",
            "188/188 [==============================] - 112s 575ms/step - loss: 0.2411 - acc: 0.9007 - val_loss: 0.2915 - val_acc: 0.8778\n",
            "Epoch 4/20\n",
            "188/188 [==============================] - 111s 569ms/step - loss: 0.2179 - acc: 0.9113 - val_loss: 0.2763 - val_acc: 0.8821\n",
            "Epoch 5/20\n",
            "188/188 [==============================] - 113s 582ms/step - loss: 0.2116 - acc: 0.9133 - val_loss: 0.2682 - val_acc: 0.8960\n",
            "Epoch 6/20\n",
            "188/188 [==============================] - 111s 569ms/step - loss: 0.1959 - acc: 0.9210 - val_loss: 0.2761 - val_acc: 0.8864\n",
            "Epoch 7/20\n",
            "188/188 [==============================] - 113s 580ms/step - loss: 0.1842 - acc: 0.9311 - val_loss: 0.2405 - val_acc: 0.9068\n",
            "Epoch 8/20\n",
            "188/188 [==============================] - 112s 576ms/step - loss: 0.1735 - acc: 0.9316 - val_loss: 0.2341 - val_acc: 0.9078\n",
            "Epoch 9/20\n",
            "188/188 [==============================] - 114s 584ms/step - loss: 0.1668 - acc: 0.9361 - val_loss: 0.2353 - val_acc: 0.9089\n",
            "Epoch 10/20\n",
            "188/188 [==============================] - 111s 571ms/step - loss: 0.1591 - acc: 0.9398 - val_loss: 0.2338 - val_acc: 0.9089\n",
            "Epoch 11/20\n",
            "188/188 [==============================] - 113s 582ms/step - loss: 0.1526 - acc: 0.9403 - val_loss: 0.2289 - val_acc: 0.9164\n",
            "Epoch 12/20\n",
            "188/188 [==============================] - 112s 574ms/step - loss: 0.1535 - acc: 0.9388 - val_loss: 0.2307 - val_acc: 0.9100\n",
            "Epoch 13/20\n",
            "188/188 [==============================] - 114s 585ms/step - loss: 0.1547 - acc: 0.9404 - val_loss: 0.2379 - val_acc: 0.9078\n",
            "Epoch 14/20\n",
            "188/188 [==============================] - 113s 581ms/step - loss: 0.1462 - acc: 0.9449 - val_loss: 0.2411 - val_acc: 0.9025\n",
            "Epoch 15/20\n",
            "188/188 [==============================] - 116s 595ms/step - loss: 0.1382 - acc: 0.9459 - val_loss: 0.2443 - val_acc: 0.9068\n",
            "Epoch 16/20\n",
            "188/188 [==============================] - 113s 580ms/step - loss: 0.1415 - acc: 0.9473 - val_loss: 0.2328 - val_acc: 0.9143\n",
            "Epoch 17/20\n",
            "188/188 [==============================] - 113s 580ms/step - loss: 0.1411 - acc: 0.9448 - val_loss: 0.2441 - val_acc: 0.9100\n",
            "Epoch 18/20\n",
            "188/188 [==============================] - 114s 587ms/step - loss: 0.1293 - acc: 0.9506 - val_loss: 0.2422 - val_acc: 0.9078\n",
            "Epoch 19/20\n",
            "188/188 [==============================] - 113s 577ms/step - loss: 0.1302 - acc: 0.9459 - val_loss: 0.2482 - val_acc: 0.9089\n",
            "Epoch 20/20\n",
            "188/188 [==============================] - 114s 587ms/step - loss: 0.1278 - acc: 0.9499 - val_loss: 0.2358 - val_acc: 0.9185\n"
          ]
        }
      ],
      "source": [
        "NUM_EPOCHS = 20\n",
        "\n",
        "history = model.fit(train_data,\n",
        "                    validation_data=val_data,\n",
        "                    epochs=NUM_EPOCHS)"
      ],
      "id": "cae9fe6f"
    },
    {
      "cell_type": "code",
      "execution_count": null,
      "metadata": {
        "id": "Xe4ooPIp83Ae"
      },
      "outputs": [],
      "source": [
        "def plot_history(hist,Text):\n",
        "  history=hist\n",
        "  acc = history.history[\"acc\"]\n",
        "  val_acc = history.history[\"val_acc\"]\n",
        "\n",
        "  loss = history.history[\"loss\"]\n",
        "  val_loss = history.history[\"val_loss\"]\n",
        "\n",
        "  epochs_range = range(len(history.epoch))\n",
        "\n",
        "  plt.figure(figsize=(10,10))\n",
        "  plt.subplot(1,2,1)\n",
        "  plt.plot(epochs_range,acc,label=\"Train Accuracy\")\n",
        "  plt.plot(epochs_range,val_acc,label=\"Validation Accuracy\")\n",
        "  plt.legend(loc = 'lower right')\n",
        "  plt.title(\"Accuracy\")\n",
        "  plt.subplot(1,2,2)\n",
        "  plt.plot(epochs_range,loss,label=\"Train Loss\")\n",
        "  plt.plot(epochs_range,val_loss,label=\"Validation Loss\")\n",
        "  plt.legend(loc = 'upper right')\n",
        "  plt.title(\"Loss\")\n",
        "  plt.suptitle(Text)"
      ],
      "id": "Xe4ooPIp83Ae"
    },
    {
      "cell_type": "code",
      "execution_count": null,
      "metadata": {
        "id": "-t7dVeLI9BdN",
        "colab": {
          "base_uri": "https://localhost:8080/",
          "height": 663
        },
        "outputId": "7d7c44c9-ef50-4200-8b88-d44ef3af052c"
      },
      "outputs": [
        {
          "output_type": "display_data",
          "data": {
            "text/plain": [
              "<Figure size 720x720 with 2 Axes>"
            ],
            "image/png": "[encoded data removed]"
          },
          "metadata": {
            "needs_background": "light"
          }
        }
      ],
      "source": [
        "plot_history(history,\"InceptionV3\")"
      ],
      "id": "-t7dVeLI9BdN"
    },
    {
      "cell_type": "code",
      "execution_count": null,
      "metadata": {
        "id": "v-G9UfA4n2XC"
      },
      "outputs": [],
      "source": [
        "model.save('/content/gdrive/MyDrive/iot_second/coffee1')"
      ],
      "id": "v-G9UfA4n2XC"
    },
    {
      "cell_type": "code",
      "execution_count": null,
      "metadata": {
        "id": "eqszHeCjpFuK",
        "colab": {
          "base_uri": "https://localhost:8080/"
        },
        "outputId": "884b4a03-3cb7-4276-96e9-978f6c2431b4"
      },
      "outputs": [
        {
          "output_type": "stream",
          "name": "stdout",
          "text": [
            "Model: \"sequential_2\"\n",
            "_________________________________________________________________\n",
            " Layer (type)                Output Shape              Param #   \n",
            "=================================================================\n",
            " sequential (Sequential)     (None, 224, 224, 3)       0         \n",
            "                                                                 \n",
            " keras_layer (KerasLayer)    (None, 2048)              21802784  \n",
            "                                                                 \n",
            " dense (Dense)               (None, 2)                 4098      \n",
            "                                                                 \n",
            "=================================================================\n",
            "Total params: 21,806,882\n",
            "Trainable params: 4,098\n",
            "Non-trainable params: 21,802,784\n",
            "_________________________________________________________________\n"
          ]
        }
      ],
      "source": [
        "loaded_model = tf.keras.models.load_model('/content/gdrive/MyDrive/iot_second/coffee1')\n",
        "loaded_model.summary()"
      ],
      "id": "eqszHeCjpFuK"
    },
    {
      "cell_type": "code",
      "execution_count": null,
      "metadata": {
        "id": "N51CIR_In8LH",
        "colab": {
          "base_uri": "https://localhost:8080/"
        },
        "outputId": "61fe47a5-0a05-46cb-9f54-fb50f2701108"
      },
      "outputs": [
        {
          "output_type": "execute_result",
          "data": {
            "text/plain": [
              "87166784"
            ]
          },
          "metadata": {},
          "execution_count": 21
        }
      ],
      "source": [
        "converter = tf.lite.TFLiteConverter.from_saved_model('/content/gdrive/MyDrive/iot_second/coffee1')\n",
        "tflite_model = converter.convert()\n",
        "with open('model.tflite', 'wb') as f:\n",
        "  f.write(tflite_model)\n",
        "tflite_model_file = pathlib.Path('/content/gdrive/MyDrive/iot_second/coffee1_noquant.tflite')\n",
        "tflite_model_file.write_bytes(tflite_model)"
      ],
      "id": "N51CIR_In8LH"
    },
    {
      "cell_type": "code",
      "execution_count": null,
      "metadata": {
        "id": "nr5DwFkfoYt8",
        "colab": {
          "base_uri": "https://localhost:8080/"
        },
        "outputId": "4ea3bb4f-bbc2-418c-b795-c6a3bbff3960"
      },
      "outputs": [
        {
          "output_type": "execute_result",
          "data": {
            "text/plain": [
              "22112184"
            ]
          },
          "metadata": {},
          "execution_count": 22
        }
      ],
      "source": [
        "converter = tf.lite.TFLiteConverter.from_saved_model('/content/gdrive/MyDrive/iot_second/coffee1')\n",
        "converter.optimizations = [tf.lite.Optimize.DEFAULT]\n",
        "tflite_model = converter.convert()\n",
        "with open('model.tflite', 'wb') as f:\n",
        "  f.write(tflite_model)\n",
        "tflite_model_file = pathlib.Path('/content/gdrive/MyDrive/iot_second/coffee1_dyn_quant.tflite')\n",
        "tflite_model_file.write_bytes(tflite_model)"
      ],
      "id": "nr5DwFkfoYt8"
    },
    {
      "cell_type": "code",
      "execution_count": null,
      "metadata": {
        "id": "RR9ADGy8om_D",
        "colab": {
          "base_uri": "https://localhost:8080/"
        },
        "outputId": "50267b44-e9c6-416f-a1ad-8a1aaadbd038"
      },
      "outputs": [
        {
          "output_type": "execute_result",
          "data": {
            "text/plain": [
              "43654752"
            ]
          },
          "metadata": {},
          "execution_count": 23
        }
      ],
      "source": [
        "converter = tf.lite.TFLiteConverter.from_saved_model('/content/gdrive/MyDrive/iot_second/coffee1')\n",
        "converter.optimizations = [tf.lite.Optimize.DEFAULT]\n",
        "converter.target_spec.supported_types = [tf.float16]\n",
        "tflite_model = converter.convert()\n",
        "with open('model.tflite', 'wb') as f:\n",
        "  f.write(tflite_model)\n",
        "tflite_model_file = pathlib.Path('/content/gdrive/MyDrive/iot_second/coffee1_f16_quant.tflite')\n",
        "tflite_model_file.write_bytes(tflite_model)"
      ],
      "id": "RR9ADGy8om_D"
    }
  ],
  "metadata": {
    "colab": {
      "provenance": []
    },
    "gpuClass": "standard",
    "kernelspec": {
      "display_name": "Python 3 (ipykernel)",
      "language": "python",
      "name": "python3"
    },
    "language_info": {
      "codemirror_mode": {
        "name": "ipython",
        "version": 3
      },
      "file_extension": ".py",
      "mimetype": "text/x-python",
      "name": "python",
      "nbconvert_exporter": "python",
      "pygments_lexer": "ipython3",
      "version": "3.10.7"
    }
  },
  "nbformat": 4,
  "nbformat_minor": 5
}